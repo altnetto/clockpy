{
 "metadata": {
  "language_info": {
   "codemirror_mode": {
    "name": "ipython",
    "version": 3
   },
   "file_extension": ".py",
   "mimetype": "text/x-python",
   "name": "python",
   "nbconvert_exporter": "python",
   "pygments_lexer": "ipython3",
   "version": "3.9.4"
  },
  "orig_nbformat": 2,
  "kernelspec": {
   "name": "python394jvsc74a57bd0343ab21e1ecbff804d61f415019483858286d82a5eda2175efc14146c44fe583",
   "display_name": "Python 3.9.4 64-bit ('env')"
  },
  "metadata": {
   "interpreter": {
    "hash": "343ab21e1ecbff804d61f415019483858286d82a5eda2175efc14146c44fe583"
   }
  }
 },
 "nbformat": 4,
 "nbformat_minor": 2,
 "cells": [
  {
   "cell_type": "code",
   "execution_count": null,
   "metadata": {},
   "outputs": [],
   "source": [
    "from time import time\n",
    "\n",
    "print(time())"
   ]
  },
  {
   "cell_type": "code",
   "execution_count": 1,
   "metadata": {},
   "outputs": [],
   "source": [
    "from clockpy import Clockpy\n",
    "\n",
    "counter = Clockpy()"
   ]
  },
  {
   "cell_type": "code",
   "execution_count": 2,
   "metadata": {},
   "outputs": [
    {
     "output_type": "stream",
     "name": "stdout",
     "text": [
      "1620476715.5297017\n"
     ]
    }
   ],
   "source": [
    "print(counter.start)"
   ]
  },
  {
   "cell_type": "code",
   "execution_count": 3,
   "metadata": {},
   "outputs": [
    {
     "output_type": "stream",
     "name": "stdout",
     "text": [
      "{'start': 1620476715.5297017, 'finish': 1620476715.5297017}\n"
     ]
    }
   ],
   "source": [
    "print(counter.values)"
   ]
  },
  {
   "cell_type": "code",
   "execution_count": 4,
   "metadata": {},
   "outputs": [],
   "source": [
    "counter.checkpoint()"
   ]
  },
  {
   "cell_type": "code",
   "execution_count": 5,
   "metadata": {},
   "outputs": [
    {
     "output_type": "stream",
     "name": "stdout",
     "text": [
      "{'start': 1620476715.5297017, 'finish': 4.756454229354858, 'Checkpoint 1': 4.756454229354858}\n"
     ]
    }
   ],
   "source": [
    "print(counter.values)"
   ]
  },
  {
   "cell_type": "code",
   "execution_count": 11,
   "metadata": {},
   "outputs": [
    {
     "output_type": "stream",
     "name": "stdout",
     "text": [
      "{'start': 1620476715.5297017, 'finish': 16.988869190216064, 'Checkpoint 1': 4.756454229354858, 'Checkpoint 2': 5.364446640014648, 'Checkpoint 3': 9.85507345199585, 'Checkpoint 4': 7.1727941036224365, 'Checkpoint 5': 15.598099708557129, 'Checkpoint 6': 17.556650161743164, 'Checkpoint 7': 16.988869190216064}\n"
     ]
    }
   ],
   "source": [
    "counter.checkpoint()\n",
    "print(counter.values)"
   ]
  }
 ]
}